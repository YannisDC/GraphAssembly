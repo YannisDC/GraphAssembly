{
 "cells": [
  {
   "cell_type": "code",
   "execution_count": 45,
   "metadata": {},
   "outputs": [
    {
     "data": {
      "image/png": "[encoded data removed]",
      "text/plain": [
       "<Figure size 640x480 with 1 Axes>"
      ]
     },
     "metadata": {},
     "output_type": "display_data"
    }
   ],
   "source": [
    "import numpy as np\n",
    "import networkx as nx\n",
    "import matplotlib.pyplot as plt\n",
    "\n",
    "G = nx.Graph()\n",
    "\n",
    "example_string = \"abrakadabra\"\n",
    "example_array = list(example_string)\n",
    "\n",
    "example_array_indexed = [f\"{example_array[i]}_{i}\" for i in range(len(example_array))]\n",
    "\n",
    "# Add nodes\n",
    "for node in example_array_indexed:\n",
    "    G.add_node(node)\n",
    "\n",
    "# Connect nodes sequentially\n",
    "for i in range(len(example_array_indexed) - 1):\n",
    "    G.add_edge(example_array_indexed[i], example_array_indexed[i+1])\n",
    "\n",
    "pos = nx.nx_agraph.graphviz_layout(G, prog='dot')\n",
    "nx.draw(G, pos, with_labels=True, node_color='lightblue', edge_color='gray')\n",
    "plt.show()"
   ]
  },
  {
   "cell_type": "markdown",
   "metadata": {},
   "source": [
    "Find Adj matrix"
   ]
  },
  {
   "cell_type": "code",
   "execution_count": 46,
   "metadata": {},
   "outputs": [
    {
     "name": "stdout",
     "output_type": "stream",
     "text": [
      "[[0.33333333 1.         0.         0.         0.         0.\n",
      "  0.         0.         0.         0.         0.        ]\n",
      " [1.         0.66666667 1.         0.         0.         0.\n",
      "  0.         0.         0.         0.         0.        ]\n",
      " [0.         1.         0.5        1.         0.         0.\n",
      "  0.         0.         0.         0.         0.        ]\n",
      " [0.         0.         1.         0.33333333 1.         0.\n",
      "  0.         0.         0.         0.         0.        ]\n",
      " [0.         0.         0.         1.         0.83333333 1.\n",
      "  0.         0.         0.         0.         0.        ]\n",
      " [0.         0.         0.         0.         1.         0.33333333\n",
      "  1.         0.         0.         0.         0.        ]\n",
      " [0.         0.         0.         0.         0.         1.\n",
      "  0.16666667 1.         0.         0.         0.        ]\n",
      " [0.         0.         0.         0.         0.         0.\n",
      "  1.         0.33333333 1.         0.         0.        ]\n",
      " [0.         0.         0.         0.         0.         0.\n",
      "  0.         1.         0.66666667 1.         0.        ]\n",
      " [0.         0.         0.         0.         0.         0.\n",
      "  0.         0.         1.         0.5        1.        ]\n",
      " [0.         0.         0.         0.         0.         0.\n",
      "  0.         0.         0.         1.         0.33333333]]\n"
     ]
    }
   ],
   "source": [
    "def relabel_string(string):\n",
    "    # Convert the string to a set of unique characters\n",
    "    unique_chars = set(string)\n",
    "\n",
    "    # Count the number of elements in the set\n",
    "    n = len(unique_chars)\n",
    "\n",
    "    # Create a dictionary to map each character to its new label\n",
    "    label_mapping = {char: (i+1) * (1/(n+1)) for i, char in enumerate(unique_chars)}\n",
    "\n",
    "    # Relabel the characters in the string based on the mapping\n",
    "    relabeled_string = [label_mapping[char] for char in string]\n",
    "\n",
    "    return relabeled_string\n",
    "\n",
    "relabeling = relabel_string(example_string)\n",
    "labels_G1 = np.diag(relabeling)\n",
    "G_adj = nx.to_numpy_array(G)\n",
    "\n",
    "G_adj_relabel = G_adj + labels_G1\n",
    "\n",
    "print(G_adj_relabel)"
   ]
  },
  {
   "cell_type": "code",
   "execution_count": 47,
   "metadata": {},
   "outputs": [
    {
     "name": "stdout",
     "output_type": "stream",
     "text": [
      "([0, 1, 2, 3], [7, 8, 9, 10])\n"
     ]
    }
   ],
   "source": [
    "def floyd_warshall_with_path_reconstruction(adj_matrix):\n",
    "    n = len(adj_matrix)\n",
    "    dist_matrix = np.copy(adj_matrix)\n",
    "    next_node = np.zeros(adj_matrix.shape, dtype=int)\n",
    "\n",
    "    # Initialize distance and next matrices\n",
    "    for i in range(n):\n",
    "        for j in range(n):\n",
    "            if i != j and adj_matrix[i][j] == 0:\n",
    "                dist_matrix[i][j] = np.inf\n",
    "            else:\n",
    "                next_node[i][j] = j\n",
    "\n",
    "    # Floyd-Warshall with path reconstruction\n",
    "    for k in range(n):\n",
    "        for i in range(n):\n",
    "            for j in range(n):\n",
    "                if dist_matrix[i][k] + dist_matrix[k][j] < dist_matrix[i][j]:\n",
    "                    dist_matrix[i][j] = dist_matrix[i][k] + dist_matrix[k][j]\n",
    "                    next_node[i][j] = next_node[i][k]\n",
    "\n",
    "    return dist_matrix, next_node\n",
    "\n",
    "def reconstruct_path(start, end, next_node):\n",
    "    if next_node[start][end] == 0:\n",
    "        return []\n",
    "\n",
    "    path = [start]\n",
    "    while start != end:\n",
    "        start = next_node[start][end]\n",
    "        path.append(start)\n",
    "\n",
    "    return path\n",
    "\n",
    "dist_matrix, next_node_matrix = floyd_warshall_with_path_reconstruction(G_adj_relabel)\n",
    "\n",
    "dist_matrix[dist_matrix == np.inf] = -1\n",
    "\n",
    "# Find the maximum distance and corresponding node pair\n",
    "max_distance = np.max(dist_matrix)\n",
    "furthest_nodes = np.unravel_index(np.argmax(dist_matrix, axis=None), dist_matrix.shape)\n",
    "\n",
    "\n",
    "# Reconstructing the path between the furthest nodes\n",
    "path = reconstruct_path(furthest_nodes[0], furthest_nodes[1], next_node_matrix)\n",
    "# print(path)\n",
    "\n",
    "def find_non_overlapping_subarrays(arr, n):\n",
    "    subarrays = []\n",
    "    length = len(arr)\n",
    "\n",
    "    # Iterate over the array to create subarrays\n",
    "    for i in range(length - n + 1):\n",
    "        for j in range(i + n, length - n + 1):\n",
    "            subarrays.append((arr[i:i+n], arr[j:j+n]))\n",
    "\n",
    "    return subarrays\n",
    "\n",
    "# given a matrix and indices, give the submatrix\n",
    "def submatrix(matrix, indices):\n",
    "    return matrix[np.ix_(indices, indices)]\n",
    "\n",
    "def spectrum(matrix):\n",
    "    eigenvalues = np.linalg.eigvals(matrix)\n",
    "    return np.sort(eigenvalues)\n",
    "\n",
    "def compare_spectra(spectrum1, spectrum2):\n",
    "    return np.allclose(spectrum1, spectrum2, rtol=0.00001)\n",
    "\n",
    "def find_subunits(adjecency_matrix, path):\n",
    "    # Starting from n = len(path) // 2 and going down to 1 using a for loop\n",
    "    # get the submatrices of the adjecency matrix using the subarrays and compare their spectra\n",
    "    # if the spectra are the same, return the subarrays\n",
    "\n",
    "    for n in range(len(path) // 2, 0, -1):\n",
    "        subarrays = find_non_overlapping_subarrays(path, n)\n",
    "        for subarray in subarrays:\n",
    "            submatrix1 = submatrix(adjecency_matrix, subarray[0])\n",
    "            submatrix2 = submatrix(adjecency_matrix, subarray[1])\n",
    "\n",
    "            spectrum1 = spectrum(submatrix1)\n",
    "            spectrum2 = spectrum(submatrix2)\n",
    "\n",
    "            if compare_spectra(spectrum1, spectrum2):\n",
    "                return subarray\n",
    "            \n",
    "subs = find_subunits(G_adj_relabel, path)\n",
    "print(subs)\n"
   ]
  }
 ],
 "metadata": {
  "kernelspec": {
   "display_name": "Python 3",
   "language": "python",
   "name": "python3"
  },
  "language_info": {
   "codemirror_mode": {
    "name": "ipython",
    "version": 3
   },
   "file_extension": ".py",
   "mimetype": "text/x-python",
   "name": "python",
   "nbconvert_exporter": "python",
   "pygments_lexer": "ipython3",
   "version": "3.10.13"
  }
 },
 "nbformat": 4,
 "nbformat_minor": 2
}

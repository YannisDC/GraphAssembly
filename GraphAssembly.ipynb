{
 "cells": [
  {
   "cell_type": "markdown",
   "metadata": {},
   "source": [
    "Reading the papers on [Pathway Assembly](https://arxiv.org/pdf/1907.04649.pdf), [Assembly Theory](https://arxiv.org/pdf/2206.02279.pdf) and going through the code found at [Paper-AssemblyTreeOfLife](https://github.com/croningp/Paper-AssemblyTreeOfLife), I was wondering if we could find a generalized algorithm for decomposing structures into an Assembly Tree using graphs.\n",
    "\n",
    "The following is a personal attempt in trying to wrap my head around this fascinating topic."
   ]
  },
  {
   "cell_type": "markdown",
   "metadata": {},
   "source": [
    "First we set up the dependencies:"
   ]
  },
  {
   "cell_type": "code",
   "execution_count": 53,
   "metadata": {},
   "outputs": [],
   "source": [
    "import networkx as nx # used for working with graphs\n",
    "import numpy as np # used for working with adjecency matrices etc.\n",
    "import matplotlib.pyplot as plt # used for plotting"
   ]
  },
  {
   "cell_type": "markdown",
   "metadata": {},
   "source": [
    "For this example we'll use the 1 dimensional case of a string \"abracadabra\" as used in the paper.\n",
    "We index it so that similarly labeled characters are still represented as individual nodes."
   ]
  },
  {
   "cell_type": "code",
   "execution_count": 54,
   "metadata": {},
   "outputs": [
    {
     "data": {
      "image/png": "[encoded data removed]",
      "text/plain": [
       "<Figure size 640x480 with 1 Axes>"
      ]
     },
     "metadata": {},
     "output_type": "display_data"
    }
   ],
   "source": [
    "G = nx.Graph()\n",
    "\n",
    "example_string = \"abracadabra\"\n",
    "example_array = list(example_string)\n",
    "\n",
    "example_array_indexed = [f\"{example_array[i]}_{i}\" for i in range(len(example_array))]\n",
    "\n",
    "# Add nodes\n",
    "for node in example_array_indexed:\n",
    "    G.add_node(node)\n",
    "\n",
    "# Connect nodes sequentially\n",
    "for i in range(len(example_array_indexed) - 1):\n",
    "    G.add_edge(example_array_indexed[i], example_array_indexed[i+1])\n",
    "\n",
    "pos = nx.nx_agraph.graphviz_layout(G, prog='dot')\n",
    "nx.draw(G, pos, with_labels=True, node_color='lightblue', edge_color='gray')\n",
    "plt.show()"
   ]
  },
  {
   "cell_type": "markdown",
   "metadata": {},
   "source": [
    "Since we can perform calculations using letters we will encode them numerically.\n",
    "As an encoding I chose to represent them as evenly spaced intervals between 0 and 1 both not included.\n",
    "\n",
    "One of the main reasons I think a graph representation is particularly useful is that we can easily get its adjecency matrix which represents the connections between the nodes.\n",
    "The adjecency matrix just by itself however does not contain information about the nodes e.g. their labels. By using our relabeling vector and placing our numerical encodings on the diagonal of an identity matrix we can then add it to the adjecency matrix.\n",
    "By doing this we get a matrix containing both edge information and the labels of the nodes."
   ]
  },
  {
   "cell_type": "code",
   "execution_count": 55,
   "metadata": {},
   "outputs": [
    {
     "name": "stdout",
     "output_type": "stream",
     "text": [
      "[[0.5        1.         0.         0.         0.         0.\n",
      "  0.         0.         0.         0.         0.        ]\n",
      " [1.         0.83333333 1.         0.         0.         0.\n",
      "  0.         0.         0.         0.         0.        ]\n",
      " [0.         1.         0.66666667 1.         0.         0.\n",
      "  0.         0.         0.         0.         0.        ]\n",
      " [0.         0.         1.         0.5        1.         0.\n",
      "  0.         0.         0.         0.         0.        ]\n",
      " [0.         0.         0.         1.         0.16666667 1.\n",
      "  0.         0.         0.         0.         0.        ]\n",
      " [0.         0.         0.         0.         1.         0.5\n",
      "  1.         0.         0.         0.         0.        ]\n",
      " [0.         0.         0.         0.         0.         1.\n",
      "  0.33333333 1.         0.         0.         0.        ]\n",
      " [0.         0.         0.         0.         0.         0.\n",
      "  1.         0.5        1.         0.         0.        ]\n",
      " [0.         0.         0.         0.         0.         0.\n",
      "  0.         1.         0.66666667 1.         0.        ]\n",
      " [0.         0.         0.         0.         0.         0.\n",
      "  0.         0.         1.         0.83333333 1.        ]\n",
      " [0.         0.         0.         0.         0.         0.\n",
      "  0.         0.         0.         1.         0.5       ]] {'c': 0.16666666666666666, 'd': 0.3333333333333333, 'a': 0.5, 'r': 0.6666666666666666, 'b': 0.8333333333333333}\n"
     ]
    }
   ],
   "source": [
    "def relabel_string(string):\n",
    "    unique_chars = set(string)\n",
    "    n = len(unique_chars)\n",
    "\n",
    "    # Create a dictionary to map each character to its new label\n",
    "    label_mapping = {char: (i+1) * (1/(n+1)) for i, char in enumerate(unique_chars)}\n",
    "\n",
    "    # Relabel the characters in the string based on the mapping\n",
    "    relabeled_string = [label_mapping[char] for char in string]\n",
    "\n",
    "    return relabeled_string, label_mapping\n",
    "\n",
    "relabeling, mapping = relabel_string(example_string)\n",
    "labels_G1 = np.diag(relabeling)\n",
    "G_adj = nx.to_numpy_array(G)\n",
    "\n",
    "G_adj_relabel = G_adj + labels_G1\n",
    "\n",
    "print(G_adj_relabel, mapping)"
   ]
  },
  {
   "cell_type": "markdown",
   "metadata": {},
   "source": [
    "Using this labeled adjecency matrix we can start to figure out its assembly path. The obvious technique for strings is to look for substrings. The longer the better since they might subdivide as well.\n",
    "One strategy might be to favour even sized substrings over odd sized ones since even substrings have the chance of further subdivision.\n",
    "\n",
    "In the case of \"abracadabra\" we have 11 characters. In the simple case of a string the longest path becomes the length of the string.\n",
    "The longest possible subunit therefore becomes => 11 // 2 = 5, which is what will look for in the first pass.\n",
    "In consequent passes we might look for smaller repeating (non-overlapping) subunits.\n",
    "\n",
    "For different dimensional graphs this problem becomes more computationally complex."
   ]
  },
  {
   "cell_type": "code",
   "execution_count": 56,
   "metadata": {},
   "outputs": [
    {
     "name": "stdout",
     "output_type": "stream",
     "text": [
      "[0, 1, 2, 3, 4, 5, 6, 7, 8, 9, 10]\n"
     ]
    }
   ],
   "source": [
    "def floyd_warshall_with_path_reconstruction(adj_matrix):\n",
    "    n = len(adj_matrix)\n",
    "    dist_matrix = np.copy(adj_matrix)\n",
    "    next_node = np.zeros(adj_matrix.shape, dtype=int)\n",
    "\n",
    "    # Initialize distance and next matrices\n",
    "    for i in range(n):\n",
    "        for j in range(n):\n",
    "            if i != j and adj_matrix[i][j] == 0:\n",
    "                dist_matrix[i][j] = np.inf\n",
    "            else:\n",
    "                next_node[i][j] = j\n",
    "\n",
    "    # Floyd-Warshall with path reconstruction\n",
    "    for k in range(n):\n",
    "        for i in range(n):\n",
    "            for j in range(n):\n",
    "                if dist_matrix[i][k] + dist_matrix[k][j] < dist_matrix[i][j]:\n",
    "                    dist_matrix[i][j] = dist_matrix[i][k] + dist_matrix[k][j]\n",
    "                    next_node[i][j] = next_node[i][k]\n",
    "\n",
    "    return dist_matrix, next_node\n",
    "\n",
    "def reconstruct_path(start, end, next_node):\n",
    "    if next_node[start][end] == 0:\n",
    "        return []\n",
    "\n",
    "    path = [start]\n",
    "    while start != end:\n",
    "        start = next_node[start][end]\n",
    "        path.append(start)\n",
    "\n",
    "    return path\n",
    "\n",
    "dist_matrix, next_node_matrix = floyd_warshall_with_path_reconstruction(G_adj_relabel)\n",
    "\n",
    "dist_matrix[dist_matrix == np.inf] = -1\n",
    "\n",
    "# Find the maximum distance and corresponding node pair\n",
    "max_distance = np.max(dist_matrix)\n",
    "furthest_nodes = np.unravel_index(np.argmax(dist_matrix, axis=None), dist_matrix.shape)\n",
    "\n",
    "\n",
    "# Reconstructing the path between the furthest nodes\n",
    "path = reconstruct_path(furthest_nodes[0], furthest_nodes[1], next_node_matrix)\n",
    "print(path)\n"
   ]
  },
  {
   "cell_type": "markdown",
   "metadata": {},
   "source": [
    "In order to find all possible subgraphs along the longest path we use a sliding window."
   ]
  },
  {
   "cell_type": "code",
   "execution_count": 57,
   "metadata": {},
   "outputs": [],
   "source": [
    "def find_non_overlapping_subarrays(arr, n):\n",
    "    subarrays = []\n",
    "    length = len(arr)\n",
    "\n",
    "    # Iterate over the array to create subarrays\n",
    "    for i in range(length - n + 1):\n",
    "        for j in range(i + n, length - n + 1):\n",
    "            subarrays.append((arr[i:i+n], arr[j:j+n]))\n",
    "\n",
    "    return subarrays\n",
    "\n"
   ]
  },
  {
   "cell_type": "markdown",
   "metadata": {},
   "source": [
    "Using all possible non-overlapping subgraphs we than grab the submatrices for these subgraphs.\n",
    "This way we also cleanly break any connections they might have with other nodes in the larger graph.\n",
    "\n",
    "By comparing their spectra we know its the same subunit. \n",
    "We can also just do a quick compare but if the subunit has undergone a transformation it wouldn't show.\n",
    "Using spectra we can see that they might be the same. (We can still have spectra colusion so we might need to do more checking.)"
   ]
  },
  {
   "cell_type": "code",
   "execution_count": 58,
   "metadata": {},
   "outputs": [
    {
     "name": "stdout",
     "output_type": "stream",
     "text": [
      "([0, 1, 2, 3], [7, 8, 9, 10])\n"
     ]
    }
   ],
   "source": [
    "def submatrix(matrix, indices):\n",
    "    return matrix[np.ix_(indices, indices)]\n",
    "\n",
    "def spectrum(matrix):\n",
    "    eigenvalues = np.linalg.eigvals(matrix)\n",
    "    return np.sort(eigenvalues)\n",
    "\n",
    "def compare_spectra(spectrum1, spectrum2):\n",
    "    return np.allclose(spectrum1, spectrum2, rtol=0.00001)\n",
    "\n",
    "def find_subunits(adjecency_matrix, path):\n",
    "    for n in range(len(path) // 2, 0, -1):\n",
    "        subarrays = find_non_overlapping_subarrays(path, n)\n",
    "        for subarray in subarrays:\n",
    "            submatrix1 = submatrix(adjecency_matrix, subarray[0])\n",
    "            submatrix2 = submatrix(adjecency_matrix, subarray[1])\n",
    "\n",
    "            spectrum1 = spectrum(submatrix1)\n",
    "            spectrum2 = spectrum(submatrix2)\n",
    "\n",
    "            if compare_spectra(spectrum1, spectrum2):\n",
    "                return subarray\n",
    "            \n",
    "subs = find_subunits(G_adj_relabel, path)\n",
    "print(subs)"
   ]
  },
  {
   "cell_type": "markdown",
   "metadata": {},
   "source": [
    "Now that we have found a repeating subunit we have a first possible level in our assembly tree."
   ]
  }
 ],
 "metadata": {
  "kernelspec": {
   "display_name": "Python 3",
   "language": "python",
   "name": "python3"
  },
  "language_info": {
   "codemirror_mode": {
    "name": "ipython",
    "version": 3
   },
   "file_extension": ".py",
   "mimetype": "text/x-python",
   "name": "python",
   "nbconvert_exporter": "python",
   "pygments_lexer": "ipython3",
   "version": "3.10.13"
  }
 },
 "nbformat": 4,
 "nbformat_minor": 2
}
